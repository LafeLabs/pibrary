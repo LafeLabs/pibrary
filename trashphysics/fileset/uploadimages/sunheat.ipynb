{
 "cells": [
  {
   "cell_type": "markdown",
   "id": "8d704b55",
   "metadata": {},
   "source": [
    "# The Sun\n",
    "\n",
    "\n",
    "Let us say that the sun is a [black body](https://en.wikipedia.org/wiki/Black_body) at temperature 5777 K.\n",
    "\n"
   ]
  },
  {
   "cell_type": "code",
   "execution_count": null,
   "id": "82fe6570",
   "metadata": {},
   "outputs": [],
   "source": []
  }
 ],
 "metadata": {
  "kernelspec": {
   "display_name": "Python 3",
   "language": "python",
   "name": "python3"
  },
  "language_info": {
   "codemirror_mode": {
    "name": "ipython",
    "version": 3
   },
   "file_extension": ".py",
   "mimetype": "text/x-python",
   "name": "python",
   "nbconvert_exporter": "python",
   "pygments_lexer": "ipython3",
   "version": "3.8.8"
  }
 },
 "nbformat": 4,
 "nbformat_minor": 5
}
