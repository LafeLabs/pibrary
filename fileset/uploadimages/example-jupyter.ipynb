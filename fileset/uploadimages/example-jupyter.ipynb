{
 "cells": [
  {
   "cell_type": "markdown",
   "id": "b2965dd2",
   "metadata": {},
   "source": [
    "## This is a generic test notebook"
   ]
  },
  {
   "cell_type": "markdown",
   "id": "e0b45c6e",
   "metadata": {},
   "source": [
    "$\\LaTeX$"
   ]
  },
  {
   "cell_type": "code",
   "execution_count": 1,
   "id": "4c83862a",
   "metadata": {},
   "outputs": [
    {
     "data": {
      "text/plain": [
       "4"
      ]
     },
     "execution_count": 1,
     "metadata": {},
     "output_type": "execute_result"
    }
   ],
   "source": [
    "2+2"
   ]
  },
  {
   "cell_type": "code",
   "execution_count": null,
   "id": "d74d4cc4",
   "metadata": {},
   "outputs": [],
   "source": []
  }
 ],
 "metadata": {
  "kernelspec": {
   "display_name": "Python 3",
   "language": "python",
   "name": "python3"
  },
  "language_info": {
   "codemirror_mode": {
    "name": "ipython",
    "version": 3
   },
   "file_extension": ".py",
   "mimetype": "text/x-python",
   "name": "python",
   "nbconvert_exporter": "python",
   "pygments_lexer": "ipython3",
   "version": "3.8.8"
  }
 },
 "nbformat": 4,
 "nbformat_minor": 5
}
